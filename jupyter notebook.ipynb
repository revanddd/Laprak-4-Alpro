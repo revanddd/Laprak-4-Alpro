{
 "cells": [
  {
   "cell_type": "code",
   "execution_count": 1,
   "metadata": {},
   "outputs": [
    {
     "name": "stdout",
     "output_type": "stream",
     "text": [
      "True\n"
     ]
    }
   ],
   "source": [
    "def cek_angka(a, b, c):\n",
    "    if a == b or a==c or b==c :\n",
    "        return False\n",
    "    if a + b == c or a + c == b or b + c == a:\n",
    "        return True\n",
    "    else:\n",
    "        return False\n",
    "    \n",
    "number1 = 6\n",
    "number2 = 2\n",
    "number3 = 8\n",
    "\n",
    "hasil_cek = cek_angka(number1, number2, number3)\n",
    "print (hasil_cek)"
   ]
  },
  {
   "cell_type": "code",
   "execution_count": 1,
   "metadata": {},
   "outputs": [
    {
     "name": "stdout",
     "output_type": "stream",
     "text": [
      "False\n"
     ]
    }
   ],
   "source": [
    "def cek_angka(a, b, c):\n",
    "    if a == b or a==c or b==c :\n",
    "        return False\n",
    "    if a + b == c or a + c == b or b + c == a:\n",
    "        return True\n",
    "    else:\n",
    "        return False\n",
    "    \n",
    "number1 = 5\n",
    "number2 = 2\n",
    "number3 = 8\n",
    "\n",
    "hasil_cek = cek_angka(number1, number2, number3)\n",
    "print (hasil_cek)"
   ]
  },
  {
   "cell_type": "code",
   "execution_count": 2,
   "metadata": {},
   "outputs": [
    {
     "name": "stdout",
     "output_type": "stream",
     "text": [
      "True\n"
     ]
    }
   ],
   "source": [
    "def cek_digit_belakang(a, b, c):\n",
    "\n",
    "    digit_a = str(a)[-1]\n",
    "    digit_b = str(b)[-1]\n",
    "    digit_c = str(c)[-1]\n",
    "\n",
    "    if digit_a == digit_b or digit_a == digit_c or digit_b == digit_c:\n",
    "        return True\n",
    "    else :\n",
    "        return False\n",
    "    \n",
    "input_a = int(input(\"masukkan bilangan a\"))\n",
    "input_b = int(input(\"masukkan bilangan b\"))\n",
    "input_c = int(input(\"masukkan bilangan c\"))\n",
    "\n",
    "hasil_digit = cek_digit_belakang(input_a, input_b, input_c)\n",
    "print(hasil_digit)"
   ]
  },
  {
   "cell_type": "code",
   "execution_count": 3,
   "metadata": {},
   "outputs": [
    {
     "name": "stdout",
     "output_type": "stream",
     "text": [
      "False\n"
     ]
    }
   ],
   "source": [
    "def cek_digit_belakang(a, b, c):\n",
    "\n",
    "    digit_a = str(a)[-1]\n",
    "    digit_b = str(b)[-1]\n",
    "    digit_c = str(c)[-1]\n",
    "\n",
    "    if digit_a == digit_b or digit_a == digit_c or digit_b == digit_c:\n",
    "        return True\n",
    "    else :\n",
    "        return False\n",
    "    \n",
    "input_a = int(input(\"masukkan bilangan a\"))\n",
    "input_b = int(input(\"masukkan bilangan b\"))\n",
    "input_c = int(input(\"masukkan bilangan c\"))\n",
    "\n",
    "hasil_digit = cek_digit_belakang(input_a, input_b, input_c)\n",
    "print(hasil_digit)"
   ]
  },
  {
   "cell_type": "code",
   "execution_count": 4,
   "metadata": {},
   "outputs": [
    {
     "name": "stdout",
     "output_type": "stream",
     "text": [
      "Input C = 100 Output F = 212.0\n",
      "Input C = 80 Output R = 64.0\n",
      "Input C = 0 Output F = 32.0\n"
     ]
    }
   ],
   "source": [
    "celcius_to_fahrenheit = lambda C: (9/5) * C + 32\n",
    "celcius_to_reamur = lambda C: 0.8 * C\n",
    "\n",
    "input_C1 = 100\n",
    "output_F1 = celcius_to_fahrenheit(input_C1)\n",
    "print(\"Input C =\", input_C1, \"Output F =\", output_F1)\n",
    "\n",
    "input_C2 = 80\n",
    "output_R2 = celcius_to_reamur(input_C2)\n",
    "print(\"Input C =\", input_C2, \"Output R =\", output_R2)\n",
    "\n",
    "input_C3 = 0\n",
    "output_F3 = celcius_to_fahrenheit(input_C3)\n",
    "print(\"Input C =\", input_C3, \"Output F =\", output_F3)\n"
   ]
  }
 ],
 "metadata": {
  "kernelspec": {
   "display_name": "Python 3",
   "language": "python",
   "name": "python3"
  },
  "language_info": {
   "codemirror_mode": {
    "name": "ipython",
    "version": 3
   },
   "file_extension": ".py",
   "mimetype": "text/x-python",
   "name": "python",
   "nbconvert_exporter": "python",
   "pygments_lexer": "ipython3",
   "version": "3.12.0"
  }
 },
 "nbformat": 4,
 "nbformat_minor": 2
}
